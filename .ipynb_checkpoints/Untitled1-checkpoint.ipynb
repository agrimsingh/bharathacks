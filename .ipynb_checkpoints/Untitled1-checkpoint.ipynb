{
 "cells": [
  {
   "cell_type": "code",
   "execution_count": 93,
   "metadata": {},
   "outputs": [
    {
     "name": "stdout",
     "output_type": "stream",
     "text": [
      "Number of Times Slept 2\n",
      "Times Slept at ['2017-06-17 16:32:48', '2017-06-17 16:32:56']\n",
      "UPDATE main SET col16 = col16+2\n"
     ]
    }
   ],
   "source": [
    "import time,pymysql\n",
    "db = pymysql.connect('localhost',\"root\",\"root\",\"bharathacks\")\n",
    "cursor = db.cursor()\n",
    "sql = \"SELECT * FROM prateek\"\n",
    "try:\n",
    "    cursor.execute(sql)\n",
    "    results = cursor.fetchall()\n",
    "except:\n",
    "    print 'Error Getting Data'\n",
    "count = 0\n",
    "db = []\n",
    "for k in range(len(results)-1):\n",
    "    end_point= float(results[k][1])*100\n",
    "    if end_point < 24:\n",
    "        flag += 1\n",
    "        \n",
    "    else:\n",
    "        flag = 0\n",
    "        \n",
    "    if flag >= 20:\n",
    "        count += 1\n",
    "        flag = 0\n",
    "        db.append(time.strftime('%Y-%m-%d %H:%M:%S', time.localtime(int(results[k][0]))))\n",
    "print 'Number of Times Slept', count\n",
    "print 'Times Slept at', db\n",
    "\n",
    "r = {}\n",
    "for t in db:\n",
    "    l = t.split()[1]\n",
    "    l = l.split(':')[0]\n",
    "    if l in r:\n",
    "        r[l] += 1\n",
    "    else:\n",
    "        r[l] = 1\n",
    "import time,pymysql\n",
    "\n",
    "db = pymysql.connect('localhost',\"root\",\"root\",\"timebased\")\n",
    "cursor = db.cursor()\n",
    "for k in r:\n",
    "    sql = \"UPDATE main SET col%s = col%s+%s\" % (k,k,r[k])\n",
    "    print sql\n",
    "    try:\n",
    "        cursor.execute(sql)\n",
    "        db.commit()\n",
    "    except:\n",
    "        db.rollback()\n",
    "        print \"ERROR Updating Sleep Stats\"\n",
    "        \n"
   ]
  },
  {
   "cell_type": "code",
   "execution_count": 92,
   "metadata": {},
   "outputs": [
    {
     "name": "stdout",
     "output_type": "stream",
     "text": [
      "UPDATE main SET col16 = 0\n"
     ]
    }
   ],
   "source": [
    "db = pymysql.connect('localhost',\"root\",\"root\",\"timebased\")\n",
    "cursor = db.cursor()\n",
    "for k in r:\n",
    "    sql = \"UPDATE main SET col%s = 0\" % (k)\n",
    "    print sql\n",
    "    try:\n",
    "        cursor.execute(sql)\n",
    "        db.commit()\n",
    "    except:\n",
    "        db.rollback()\n",
    "        print \"ERROR Updating Sleep Stats\""
   ]
  }
 ],
 "metadata": {
  "kernelspec": {
   "display_name": "Python 2",
   "language": "python",
   "name": "python2"
  },
  "language_info": {
   "codemirror_mode": {
    "name": "ipython",
    "version": 2
   },
   "file_extension": ".py",
   "mimetype": "text/x-python",
   "name": "python",
   "nbconvert_exporter": "python",
   "pygments_lexer": "ipython2",
   "version": "2.7.13"
  }
 },
 "nbformat": 4,
 "nbformat_minor": 2
}
